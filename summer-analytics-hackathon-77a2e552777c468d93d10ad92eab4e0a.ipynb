{
 "cells": [
  {
   "cell_type": "code",
   "execution_count": 1,
   "id": "1acb6d4b",
   "metadata": {},
   "outputs": [],
   "source": [
    "# Import necessary libraries\n",
    "import pandas as pd\n",
    "import numpy as np\n",
    "from sklearn.model_selection import train_test_split\n",
    "from sklearn.preprocessing import StandardScaler, LabelEncoder\n",
    "from sklearn.ensemble import RandomForestClassifier\n",
    "from sklearn.metrics import classification_report, roc_auc_score"
   ]
  },
  {
   "cell_type": "code",
   "execution_count": 4,
   "id": "ea23a381",
   "metadata": {},
   "outputs": [],
   "source": [
    "# Load the dataset\n",
    "train_df = pd.read_csv(\"C:/Users/deepi/Downloads/Train_Data.csv\")\n",
    "test_df = pd.read_csv(\"C:/Users/deepi/Downloads/Test_Data.csv\")\n"
   ]
  },
  {
   "cell_type": "code",
   "execution_count": 5,
   "id": "a4d5368f",
   "metadata": {
    "scrolled": false
   },
   "outputs": [
    {
     "name": "stdout",
     "output_type": "stream",
     "text": [
      "   duration protocoltype      service flag  srcbytes  dstbytes  land  \\\n",
      "0         0          tcp  netbios_dgm  REJ         0         0     0   \n",
      "1         0          tcp         smtp   SF      1239       400     0   \n",
      "2         0          tcp         http   SF       222       945     0   \n",
      "3         0          tcp         http   SF       235      1380     0   \n",
      "4         0          tcp    uucp_path  REJ         0         0     0   \n",
      "\n",
      "   wrongfragment  urgent  hot  ...  dsthostsamesrvrate  dsthostdiffsrvrate  \\\n",
      "0              0       0    0  ...                0.06                0.06   \n",
      "1              0       0    0  ...                0.45                0.04   \n",
      "2              0       0    0  ...                1.00                0.00   \n",
      "3              0       0    0  ...                1.00                0.00   \n",
      "4              0       0    0  ...                0.01                0.08   \n",
      "\n",
      "   dsthostsamesrcportrate  dsthostsrvdiffhostrate  dsthostserrorrate  \\\n",
      "0                    0.00                    0.00               0.00   \n",
      "1                    0.00                    0.00               0.11   \n",
      "2                    0.02                    0.03               0.00   \n",
      "3                    0.00                    0.00               0.00   \n",
      "4                    0.00                    0.00               0.00   \n",
      "\n",
      "   dsthostsrvserrorrate  dsthostrerrorrate  dsthostsrvrerrorrate  lastflag  \\\n",
      "0                   0.0               1.00                   1.0        21   \n",
      "1                   0.0               0.02                   0.0        18   \n",
      "2                   0.0               0.00                   0.0        21   \n",
      "3                   0.0               0.00                   0.0        21   \n",
      "4                   0.0               1.00                   1.0        19   \n",
      "\n",
      "   attack  \n",
      "0       1  \n",
      "1       0  \n",
      "2       0  \n",
      "3       0  \n",
      "4       1  \n",
      "\n",
      "[5 rows x 43 columns]\n",
      "<class 'pandas.core.frame.DataFrame'>\n",
      "RangeIndex: 86845 entries, 0 to 86844\n",
      "Data columns (total 43 columns):\n",
      " #   Column                  Non-Null Count  Dtype  \n",
      "---  ------                  --------------  -----  \n",
      " 0   duration                86845 non-null  int64  \n",
      " 1   protocoltype            86845 non-null  object \n",
      " 2   service                 86845 non-null  object \n",
      " 3   flag                    86845 non-null  object \n",
      " 4   srcbytes                86845 non-null  int64  \n",
      " 5   dstbytes                86845 non-null  int64  \n",
      " 6   land                    86845 non-null  int64  \n",
      " 7   wrongfragment           86845 non-null  int64  \n",
      " 8   urgent                  86845 non-null  int64  \n",
      " 9   hot                     86845 non-null  int64  \n",
      " 10  numfailedlogins         86845 non-null  int64  \n",
      " 11  loggedin                86845 non-null  int64  \n",
      " 12  numcompromised          86845 non-null  int64  \n",
      " 13  rootshell               86845 non-null  int64  \n",
      " 14  suattempted             86845 non-null  int64  \n",
      " 15  numroot                 86845 non-null  int64  \n",
      " 16  numfilecreations        86845 non-null  int64  \n",
      " 17  numshells               86845 non-null  int64  \n",
      " 18  numaccessfiles          86845 non-null  int64  \n",
      " 19  numoutboundcmds         86845 non-null  int64  \n",
      " 20  ishostlogin             86845 non-null  int64  \n",
      " 21  isguestlogin            86845 non-null  int64  \n",
      " 22  count                   86845 non-null  int64  \n",
      " 23  srvcount                86845 non-null  int64  \n",
      " 24  serrorrate              86845 non-null  float64\n",
      " 25  srvserrorrate           86845 non-null  float64\n",
      " 26  rerrorrate              86845 non-null  float64\n",
      " 27  srvrerrorrate           86845 non-null  float64\n",
      " 28  samesrvrate             86845 non-null  float64\n",
      " 29  diffsrvrate             86845 non-null  float64\n",
      " 30  srvdiffhostrate         86845 non-null  float64\n",
      " 31  dsthostcount            86845 non-null  int64  \n",
      " 32  dsthostsrvcount         86845 non-null  int64  \n",
      " 33  dsthostsamesrvrate      86845 non-null  float64\n",
      " 34  dsthostdiffsrvrate      86845 non-null  float64\n",
      " 35  dsthostsamesrcportrate  86845 non-null  float64\n",
      " 36  dsthostsrvdiffhostrate  86845 non-null  float64\n",
      " 37  dsthostserrorrate       86845 non-null  float64\n",
      " 38  dsthostsrvserrorrate    86845 non-null  float64\n",
      " 39  dsthostrerrorrate       86845 non-null  float64\n",
      " 40  dsthostsrvrerrorrate    86845 non-null  float64\n",
      " 41  lastflag                86845 non-null  int64  \n",
      " 42  attack                  86845 non-null  int64  \n",
      "dtypes: float64(15), int64(25), object(3)\n",
      "memory usage: 28.5+ MB\n",
      "None\n",
      "   duration protocoltype  service flag  srcbytes  dstbytes  land  \\\n",
      "0         0          tcp      mtp  REJ         0         0     0   \n",
      "1         0          tcp     http   SF       199      1721     0   \n",
      "2         0          tcp  discard   S0         0         0     0   \n",
      "3         0          tcp   telnet   S0         0         0     0   \n",
      "4         0          tcp     exec   S0         0         0     0   \n",
      "\n",
      "   wrongfragment  urgent  hot  ...  dsthostsrvcount  dsthostsamesrvrate  \\\n",
      "0              0       0    0  ...                7                0.03   \n",
      "1              0       0    0  ...              255                1.00   \n",
      "2              0       0    0  ...               14                0.05   \n",
      "3              0       0    0  ...                2                0.01   \n",
      "4              0       0    0  ...               16                0.06   \n",
      "\n",
      "   dsthostdiffsrvrate  dsthostsamesrcportrate  dsthostsrvdiffhostrate  \\\n",
      "0                0.08                     0.0                     0.0   \n",
      "1                0.00                     0.0                     0.0   \n",
      "2                0.09                     0.0                     0.0   \n",
      "3                0.09                     0.0                     0.0   \n",
      "4                0.06                     0.0                     0.0   \n",
      "\n",
      "   dsthostserrorrate  dsthostsrvserrorrate  dsthostrerrorrate  \\\n",
      "0                0.0                   0.0                1.0   \n",
      "1                0.0                   0.0                0.0   \n",
      "2                1.0                   1.0                0.0   \n",
      "3                1.0                   1.0                0.0   \n",
      "4                1.0                   1.0                0.0   \n",
      "\n",
      "   dsthostsrvrerrorrate  lastflag  \n",
      "0                   1.0        20  \n",
      "1                   0.0        21  \n",
      "2                   0.0        18  \n",
      "3                   0.0        18  \n",
      "4                   0.0        20  \n",
      "\n",
      "[5 rows x 42 columns]\n",
      "<class 'pandas.core.frame.DataFrame'>\n",
      "RangeIndex: 21712 entries, 0 to 21711\n",
      "Data columns (total 42 columns):\n",
      " #   Column                  Non-Null Count  Dtype  \n",
      "---  ------                  --------------  -----  \n",
      " 0   duration                21712 non-null  int64  \n",
      " 1   protocoltype            21712 non-null  object \n",
      " 2   service                 21712 non-null  object \n",
      " 3   flag                    21712 non-null  object \n",
      " 4   srcbytes                21712 non-null  int64  \n",
      " 5   dstbytes                21712 non-null  int64  \n",
      " 6   land                    21712 non-null  int64  \n",
      " 7   wrongfragment           21712 non-null  int64  \n",
      " 8   urgent                  21712 non-null  int64  \n",
      " 9   hot                     21712 non-null  int64  \n",
      " 10  numfailedlogins         21712 non-null  int64  \n",
      " 11  loggedin                21712 non-null  int64  \n",
      " 12  numcompromised          21712 non-null  int64  \n",
      " 13  rootshell               21712 non-null  int64  \n",
      " 14  suattempted             21712 non-null  int64  \n",
      " 15  numroot                 21712 non-null  int64  \n",
      " 16  numfilecreations        21712 non-null  int64  \n",
      " 17  numshells               21712 non-null  int64  \n",
      " 18  numaccessfiles          21712 non-null  int64  \n",
      " 19  numoutboundcmds         21712 non-null  int64  \n",
      " 20  ishostlogin             21712 non-null  int64  \n",
      " 21  isguestlogin            21712 non-null  int64  \n",
      " 22  count                   21712 non-null  int64  \n",
      " 23  srvcount                21712 non-null  int64  \n",
      " 24  serrorrate              21712 non-null  float64\n",
      " 25  srvserrorrate           21712 non-null  float64\n",
      " 26  rerrorrate              21712 non-null  float64\n",
      " 27  srvrerrorrate           21712 non-null  float64\n",
      " 28  samesrvrate             21712 non-null  float64\n",
      " 29  diffsrvrate             21712 non-null  float64\n",
      " 30  srvdiffhostrate         21712 non-null  float64\n",
      " 31  dsthostcount            21712 non-null  int64  \n",
      " 32  dsthostsrvcount         21712 non-null  int64  \n",
      " 33  dsthostsamesrvrate      21712 non-null  float64\n",
      " 34  dsthostdiffsrvrate      21712 non-null  float64\n",
      " 35  dsthostsamesrcportrate  21712 non-null  float64\n",
      " 36  dsthostsrvdiffhostrate  21712 non-null  float64\n",
      " 37  dsthostserrorrate       21712 non-null  float64\n",
      " 38  dsthostsrvserrorrate    21712 non-null  float64\n",
      " 39  dsthostrerrorrate       21712 non-null  float64\n",
      " 40  dsthostsrvrerrorrate    21712 non-null  float64\n",
      " 41  lastflag                21712 non-null  int64  \n",
      "dtypes: float64(15), int64(24), object(3)\n",
      "memory usage: 7.0+ MB\n",
      "None\n"
     ]
    }
   ],
   "source": [
    "# Data Exploration\n",
    "print(train_df.head())\n",
    "print(train_df.info())\n",
    "print(test_df.head())\n",
    "print(test_df.info())"
   ]
  },
  {
   "cell_type": "code",
   "execution_count": 6,
   "id": "13318eba",
   "metadata": {},
   "outputs": [],
   "source": [
    "# Encode categorical variables\n",
    "label_encoders = {}\n",
    "categorical_cols = ['protocoltype', 'service', 'flag']\n",
    "for col in categorical_cols:\n",
    "    label_encoders[col] = LabelEncoder()\n",
    "    train_df[col] = label_encoders[col].fit_transform(train_df[col])\n",
    "    test_df[col] = label_encoders[col].transform(test_df[col])\n"
   ]
  },
  {
   "cell_type": "code",
   "execution_count": 7,
   "id": "e0cf1c13",
   "metadata": {},
   "outputs": [],
   "source": [
    "# Separate features and target variable\n",
    "X = train_df.drop('attack', axis=1)\n",
    "y = train_df['attack']"
   ]
  },
  {
   "cell_type": "code",
   "execution_count": 8,
   "id": "6602ab8c",
   "metadata": {},
   "outputs": [],
   "source": [
    "# Split the data into training and validation sets\n",
    "X_train, X_val, y_train, y_val = train_test_split(X, y, test_size=0.2, random_state=42)\n"
   ]
  },
  {
   "cell_type": "code",
   "execution_count": 9,
   "id": "9d6c3f83",
   "metadata": {},
   "outputs": [],
   "source": [
    "# Scale the features\n",
    "scaler = StandardScaler()\n",
    "X_train_scaled = scaler.fit_transform(X_train)\n",
    "X_val_scaled = scaler.transform(X_val)"
   ]
  },
  {
   "cell_type": "code",
   "execution_count": 10,
   "id": "54e5d9c6",
   "metadata": {},
   "outputs": [
    {
     "data": {
      "text/html": [
       "<style>#sk-container-id-1 {color: black;}#sk-container-id-1 pre{padding: 0;}#sk-container-id-1 div.sk-toggleable {background-color: white;}#sk-container-id-1 label.sk-toggleable__label {cursor: pointer;display: block;width: 100%;margin-bottom: 0;padding: 0.3em;box-sizing: border-box;text-align: center;}#sk-container-id-1 label.sk-toggleable__label-arrow:before {content: \"▸\";float: left;margin-right: 0.25em;color: #696969;}#sk-container-id-1 label.sk-toggleable__label-arrow:hover:before {color: black;}#sk-container-id-1 div.sk-estimator:hover label.sk-toggleable__label-arrow:before {color: black;}#sk-container-id-1 div.sk-toggleable__content {max-height: 0;max-width: 0;overflow: hidden;text-align: left;background-color: #f0f8ff;}#sk-container-id-1 div.sk-toggleable__content pre {margin: 0.2em;color: black;border-radius: 0.25em;background-color: #f0f8ff;}#sk-container-id-1 input.sk-toggleable__control:checked~div.sk-toggleable__content {max-height: 200px;max-width: 100%;overflow: auto;}#sk-container-id-1 input.sk-toggleable__control:checked~label.sk-toggleable__label-arrow:before {content: \"▾\";}#sk-container-id-1 div.sk-estimator input.sk-toggleable__control:checked~label.sk-toggleable__label {background-color: #d4ebff;}#sk-container-id-1 div.sk-label input.sk-toggleable__control:checked~label.sk-toggleable__label {background-color: #d4ebff;}#sk-container-id-1 input.sk-hidden--visually {border: 0;clip: rect(1px 1px 1px 1px);clip: rect(1px, 1px, 1px, 1px);height: 1px;margin: -1px;overflow: hidden;padding: 0;position: absolute;width: 1px;}#sk-container-id-1 div.sk-estimator {font-family: monospace;background-color: #f0f8ff;border: 1px dotted black;border-radius: 0.25em;box-sizing: border-box;margin-bottom: 0.5em;}#sk-container-id-1 div.sk-estimator:hover {background-color: #d4ebff;}#sk-container-id-1 div.sk-parallel-item::after {content: \"\";width: 100%;border-bottom: 1px solid gray;flex-grow: 1;}#sk-container-id-1 div.sk-label:hover label.sk-toggleable__label {background-color: #d4ebff;}#sk-container-id-1 div.sk-serial::before {content: \"\";position: absolute;border-left: 1px solid gray;box-sizing: border-box;top: 0;bottom: 0;left: 50%;z-index: 0;}#sk-container-id-1 div.sk-serial {display: flex;flex-direction: column;align-items: center;background-color: white;padding-right: 0.2em;padding-left: 0.2em;position: relative;}#sk-container-id-1 div.sk-item {position: relative;z-index: 1;}#sk-container-id-1 div.sk-parallel {display: flex;align-items: stretch;justify-content: center;background-color: white;position: relative;}#sk-container-id-1 div.sk-item::before, #sk-container-id-1 div.sk-parallel-item::before {content: \"\";position: absolute;border-left: 1px solid gray;box-sizing: border-box;top: 0;bottom: 0;left: 50%;z-index: -1;}#sk-container-id-1 div.sk-parallel-item {display: flex;flex-direction: column;z-index: 1;position: relative;background-color: white;}#sk-container-id-1 div.sk-parallel-item:first-child::after {align-self: flex-end;width: 50%;}#sk-container-id-1 div.sk-parallel-item:last-child::after {align-self: flex-start;width: 50%;}#sk-container-id-1 div.sk-parallel-item:only-child::after {width: 0;}#sk-container-id-1 div.sk-dashed-wrapped {border: 1px dashed gray;margin: 0 0.4em 0.5em 0.4em;box-sizing: border-box;padding-bottom: 0.4em;background-color: white;}#sk-container-id-1 div.sk-label label {font-family: monospace;font-weight: bold;display: inline-block;line-height: 1.2em;}#sk-container-id-1 div.sk-label-container {text-align: center;}#sk-container-id-1 div.sk-container {/* jupyter's `normalize.less` sets `[hidden] { display: none; }` but bootstrap.min.css set `[hidden] { display: none !important; }` so we also need the `!important` here to be able to override the default hidden behavior on the sphinx rendered scikit-learn.org. See: https://github.com/scikit-learn/scikit-learn/issues/21755 */display: inline-block !important;position: relative;}#sk-container-id-1 div.sk-text-repr-fallback {display: none;}</style><div id=\"sk-container-id-1\" class=\"sk-top-container\"><div class=\"sk-text-repr-fallback\"><pre>RandomForestClassifier(random_state=42)</pre><b>In a Jupyter environment, please rerun this cell to show the HTML representation or trust the notebook. <br />On GitHub, the HTML representation is unable to render, please try loading this page with nbviewer.org.</b></div><div class=\"sk-container\" hidden><div class=\"sk-item\"><div class=\"sk-estimator sk-toggleable\"><input class=\"sk-toggleable__control sk-hidden--visually\" id=\"sk-estimator-id-1\" type=\"checkbox\" checked><label for=\"sk-estimator-id-1\" class=\"sk-toggleable__label sk-toggleable__label-arrow\">RandomForestClassifier</label><div class=\"sk-toggleable__content\"><pre>RandomForestClassifier(random_state=42)</pre></div></div></div></div></div>"
      ],
      "text/plain": [
       "RandomForestClassifier(random_state=42)"
      ]
     },
     "execution_count": 10,
     "metadata": {},
     "output_type": "execute_result"
    }
   ],
   "source": [
    "# Train the model\n",
    "model = RandomForestClassifier(random_state=42)\n",
    "model.fit(X_train_scaled, y_train)"
   ]
  },
  {
   "cell_type": "code",
   "execution_count": 11,
   "id": "4df33c68",
   "metadata": {},
   "outputs": [
    {
     "name": "stdout",
     "output_type": "stream",
     "text": [
      "Validation Accuracy: 1.0\n",
      "Classification Report:\n",
      "               precision    recall  f1-score   support\n",
      "\n",
      "           0       1.00      1.00      1.00     10762\n",
      "           1       1.00      1.00      1.00      6607\n",
      "\n",
      "    accuracy                           1.00     17369\n",
      "   macro avg       1.00      1.00      1.00     17369\n",
      "weighted avg       1.00      1.00      1.00     17369\n",
      "\n",
      "ROC AUC Score: 1.0\n"
     ]
    }
   ],
   "source": [
    "# Evaluate the model\n",
    "y_pred = model.predict(X_val_scaled)\n",
    "print(\"Validation Accuracy:\", model.score(X_val_scaled, y_val))\n",
    "print(\"Classification Report:\\n\", classification_report(y_val, y_pred))\n",
    "print(\"ROC AUC Score:\", roc_auc_score(y_val, y_pred))"
   ]
  },
  {
   "cell_type": "code",
   "execution_count": 12,
   "id": "08229a8c",
   "metadata": {},
   "outputs": [],
   "source": [
    "# Make predictions on the test set\n",
    "X_test_scaled = scaler.transform(test_df)\n",
    "test_predictions = model.predict(X_test_scaled)"
   ]
  },
  {
   "cell_type": "code",
   "execution_count": 14,
   "id": "d4e19438",
   "metadata": {},
   "outputs": [],
   "source": [
    "# Prepare the submission file\n",
    "submission = pd.DataFrame({'id': test_df.index, 'attack': test_predictions})\n",
    "submission['attack'] = submission['attack'].map({0: 'normal', 1: 'neptune'})\n",
    "submission.to_csv('submission.csv', index=False)"
   ]
  },
  {
   "cell_type": "code",
   "execution_count": null,
   "id": "6f8af5c9",
   "metadata": {},
   "outputs": [],
   "source": []
  }
 ],
 "metadata": {
  "kernelspec": {
   "display_name": "Python 3 (ipykernel)",
   "language": "python",
   "name": "python3"
  },
  "language_info": {
   "codemirror_mode": {
    "name": "ipython",
    "version": 3
   },
   "file_extension": ".py",
   "mimetype": "text/x-python",
   "name": "python",
   "nbconvert_exporter": "python",
   "pygments_lexer": "ipython3",
   "version": "3.11.5"
  }
 },
 "nbformat": 4,
 "nbformat_minor": 5
}
